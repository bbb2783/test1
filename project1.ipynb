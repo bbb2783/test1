{
 "cells": [
  {
   "cell_type": "code",
   "execution_count": 1,
   "metadata": {},
   "outputs": [
    {
     "name": "stdout",
     "output_type": "stream",
     "text": [
      "Requirement already satisfied: PublicDataReader in c:\\users\\김유빈\\appdata\\local\\programs\\python\\python310\\lib\\site-packages (1.0.18)\n",
      "Requirement already satisfied: requests in c:\\users\\김유빈\\appdata\\local\\programs\\python\\python310\\lib\\site-packages (from PublicDataReader) (2.28.2)\n",
      "Requirement already satisfied: pandas in c:\\users\\김유빈\\appdata\\local\\programs\\python\\python310\\lib\\site-packages (from PublicDataReader) (1.5.3)\n",
      "Requirement already satisfied: xmltodict in c:\\users\\김유빈\\appdata\\local\\programs\\python\\python310\\lib\\site-packages (from PublicDataReader) (0.13.0)\n",
      "Requirement already satisfied: numpy in c:\\users\\김유빈\\appdata\\local\\programs\\python\\python310\\lib\\site-packages (from PublicDataReader) (1.24.2)\n",
      "Requirement already satisfied: lxml in c:\\users\\김유빈\\appdata\\local\\programs\\python\\python310\\lib\\site-packages (from PublicDataReader) (4.9.2)\n",
      "Requirement already satisfied: beautifulsoup4 in c:\\users\\김유빈\\appdata\\local\\programs\\python\\python310\\lib\\site-packages (from PublicDataReader) (4.11.2)\n",
      "Requirement already satisfied: soupsieve>1.2 in c:\\users\\김유빈\\appdata\\local\\programs\\python\\python310\\lib\\site-packages (from beautifulsoup4->PublicDataReader) (2.4)\n",
      "Requirement already satisfied: pytz>=2020.1 in c:\\users\\김유빈\\appdata\\local\\programs\\python\\python310\\lib\\site-packages (from pandas->PublicDataReader) (2022.7.1)\n",
      "Requirement already satisfied: python-dateutil>=2.8.1 in c:\\users\\김유빈\\appdata\\roaming\\python\\python310\\site-packages (from pandas->PublicDataReader) (2.8.2)\n",
      "Requirement already satisfied: certifi>=2017.4.17 in c:\\users\\김유빈\\appdata\\local\\programs\\python\\python310\\lib\\site-packages (from requests->PublicDataReader) (2022.12.7)\n",
      "Requirement already satisfied: urllib3<1.27,>=1.21.1 in c:\\users\\김유빈\\appdata\\local\\programs\\python\\python310\\lib\\site-packages (from requests->PublicDataReader) (1.26.14)\n",
      "Requirement already satisfied: idna<4,>=2.5 in c:\\users\\김유빈\\appdata\\local\\programs\\python\\python310\\lib\\site-packages (from requests->PublicDataReader) (3.4)\n",
      "Requirement already satisfied: charset-normalizer<4,>=2 in c:\\users\\김유빈\\appdata\\local\\programs\\python\\python310\\lib\\site-packages (from requests->PublicDataReader) (3.1.0)\n",
      "Requirement already satisfied: six>=1.5 in c:\\users\\김유빈\\appdata\\roaming\\python\\python310\\site-packages (from python-dateutil>=2.8.1->pandas->PublicDataReader) (1.16.0)\n"
     ]
    },
    {
     "name": "stderr",
     "output_type": "stream",
     "text": [
      "WARNING: You are using pip version 22.0.4; however, version 23.0.1 is available.\n",
      "You should consider upgrading via the 'C:\\Users\\김유빈\\AppData\\Local\\Programs\\Python\\Python310\\python.exe -m pip install --upgrade pip' command.\n"
     ]
    }
   ],
   "source": [
    "! pip install PublicDataReader"
   ]
  },
  {
   "cell_type": "code",
   "execution_count": 2,
   "metadata": {},
   "outputs": [
    {
     "name": "stdout",
     "output_type": "stream",
     "text": [
      "1.0.18\n"
     ]
    }
   ],
   "source": [
    "import PublicDataReader as pdr\n",
    "print(pdr. __version__)"
   ]
  },
  {
   "cell_type": "code",
   "execution_count": 3,
   "metadata": {},
   "outputs": [
    {
     "name": "stderr",
     "output_type": "stream",
     "text": [
      "[ERROR] 아파트 매매 조회 서비스 오류 - (99) SERVICE KEY IS NOT REGISTERED ERROR.\n",
      "[ERROR] 아파트 전월세 조회 서비스 오류 - (99) SERVICE KEY IS NOT REGISTERED ERROR.\n",
      "[ERROR] 오피스텔 매매 조회 서비스 오류 - (99) SERVICE KEY IS NOT REGISTERED ERROR.\n",
      "[ERROR] 오피스텔 전월세 조회 서비스 오류 - (99) SERVICE KEY IS NOT REGISTERED ERROR.\n",
      "[ERROR] 단독다가구 매매 조회 서비스 오류 - (99) SERVICE KEY IS NOT REGISTERED ERROR.\n",
      "[ERROR] 단독다가구 전월세 조회 서비스 오류 - (99) SERVICE KEY IS NOT REGISTERED ERROR.\n",
      "[ERROR] 연립다세대 매매 조회 서비스 오류 - (99) SERVICE KEY IS NOT REGISTERED ERROR.\n",
      "[ERROR] 연립다세대 전월세 조회 서비스 오류 - (99) SERVICE KEY IS NOT REGISTERED ERROR.\n",
      "[ERROR] 상업업무용 매매 조회 서비스 오류 - (99) SERVICE KEY IS NOT REGISTERED ERROR.\n",
      "[ERROR] 토지 매매 조회 서비스 오류 - (99) SERVICE KEY IS NOT REGISTERED ERROR.\n",
      "[ERROR] 분양입주권 매매 조회 서비스 오류 - (99) SERVICE KEY IS NOT REGISTERED ERROR.\n",
      "[ERROR] 공장창고등 매매 조회 서비스 오류 - (99) SERVICE KEY IS NOT REGISTERED ERROR.\n"
     ]
    }
   ],
   "source": [
    "serviceKey=\"d0mP886Qs5a3Y4SvZex0oXe%2FDGPx%2BkWUzw8y8sym7k23cQ2tIrgqsiK5TvbotTaODr74xm3rCD5wy899P%2BoTSg%3D%3D\"\n",
    "ts = pdr.Transaction(serviceKey, debug=True)"
   ]
  },
  {
   "cell_type": "code",
   "execution_count": 4,
   "metadata": {},
   "outputs": [
    {
     "data": {
      "text/html": [
       "<div>\n",
       "<style scoped>\n",
       "    .dataframe tbody tr th:only-of-type {\n",
       "        vertical-align: middle;\n",
       "    }\n",
       "\n",
       "    .dataframe tbody tr th {\n",
       "        vertical-align: top;\n",
       "    }\n",
       "\n",
       "    .dataframe thead th {\n",
       "        text-align: right;\n",
       "    }\n",
       "</style>\n",
       "<table border=\"1\" class=\"dataframe\">\n",
       "  <thead>\n",
       "    <tr style=\"text-align: right;\">\n",
       "      <th></th>\n",
       "      <th>시도코드</th>\n",
       "      <th>시도명</th>\n",
       "      <th>시군구코드</th>\n",
       "      <th>시군구명</th>\n",
       "      <th>법정동코드</th>\n",
       "      <th>읍면동명</th>\n",
       "      <th>동리명</th>\n",
       "      <th>생성일자</th>\n",
       "      <th>말소일자</th>\n",
       "    </tr>\n",
       "  </thead>\n",
       "  <tbody>\n",
       "    <tr>\n",
       "      <th>5152</th>\n",
       "      <td>41</td>\n",
       "      <td>경기도</td>\n",
       "      <td>41135</td>\n",
       "      <td>성남시 분당구</td>\n",
       "      <td>4113500000</td>\n",
       "      <td>NaN</td>\n",
       "      <td>NaN</td>\n",
       "      <td>19910916</td>\n",
       "      <td>NaN</td>\n",
       "    </tr>\n",
       "  </tbody>\n",
       "</table>\n",
       "</div>"
      ],
      "text/plain": [
       "     시도코드  시도명  시군구코드     시군구명       법정동코드 읍면동명  동리명      생성일자 말소일자\n",
       "5152   41  경기도  41135  성남시 분당구  4113500000  NaN  NaN  19910916  NaN"
      ]
     },
     "execution_count": 4,
     "metadata": {},
     "output_type": "execute_result"
    }
   ],
   "source": [
    "sigunguName = \"분당구\"\n",
    "code = pdr.code_bdong()\n",
    "code.loc[(code['시군구명'].str.contains(sigunguName, na=False)) &\n",
    "        (code['읍면동명'].isna())]"
   ]
  },
  {
   "cell_type": "code",
   "execution_count": 5,
   "metadata": {},
   "outputs": [
    {
     "name": "stderr",
     "output_type": "stream",
     "text": [
      "[ERROR] (99) SERVICE KEY IS NOT REGISTERED ERROR. OPEN API 오류 - 코드: 99\n"
     ]
    }
   ],
   "source": [
    "prod = \"아파트\"\n",
    "trans = \"매매\"\n",
    "sigunguCode = \"21320\"\n",
    "yearMonth = \"202211\"\n",
    "\n",
    "df = ts.read_data(prod, trans, sigunguCode, yearMonth)"
   ]
  },
  {
   "cell_type": "code",
   "execution_count": null,
   "metadata": {},
   "outputs": [],
   "source": []
  },
  {
   "cell_type": "code",
   "execution_count": null,
   "metadata": {},
   "outputs": [],
   "source": []
  },
  {
   "cell_type": "code",
   "execution_count": null,
   "metadata": {},
   "outputs": [],
   "source": []
  },
  {
   "cell_type": "code",
   "execution_count": null,
   "metadata": {},
   "outputs": [],
   "source": []
  },
  {
   "cell_type": "code",
   "execution_count": null,
   "metadata": {},
   "outputs": [],
   "source": []
  },
  {
   "cell_type": "code",
   "execution_count": null,
   "metadata": {},
   "outputs": [],
   "source": []
  },
  {
   "cell_type": "code",
   "execution_count": null,
   "metadata": {},
   "outputs": [],
   "source": []
  }
 ],
 "metadata": {
  "kernelspec": {
   "display_name": "Python 3",
   "language": "python",
   "name": "python3"
  },
  "language_info": {
   "codemirror_mode": {
    "name": "ipython",
    "version": 3
   },
   "file_extension": ".py",
   "mimetype": "text/x-python",
   "name": "python",
   "nbconvert_exporter": "python",
   "pygments_lexer": "ipython3",
   "version": "3.10.4"
  },
  "orig_nbformat": 4
 },
 "nbformat": 4,
 "nbformat_minor": 2
}
